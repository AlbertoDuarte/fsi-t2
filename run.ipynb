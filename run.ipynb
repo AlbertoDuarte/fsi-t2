{
 "cells": [
  {
   "cell_type": "markdown",
   "metadata": {},
   "source": [
    "<center><h1>Parte 1</h1></center>\n",
    "<center><h1>Entender os Dados</h1></center>"
   ]
  },
  {
   "cell_type": "markdown",
   "metadata": {},
   "source": [
    "<h2> Import das bibliotecas</h2>"
   ]
  },
  {
   "cell_type": "code",
   "execution_count": 1,
   "metadata": {},
   "outputs": [],
   "source": [
    "import cv2\n",
    "import os\n",
    "\n",
    "from sklearn import model_selection\n",
    "from sklearn.ensemble import RandomForestClassifier\n",
    "from sklearn.model_selection import train_test_split\n",
    "from sklearn.metrics import classification_report\n",
    "from sklearn.metrics import confusion_matrix\n",
    "from sklearn.metrics import accuracy_score\n",
    "\n",
    "from tqdm import tqdm\n",
    "\n",
    "import numpy as np\n",
    "import matplotlib.pyplot as plt\n",
    "import seaborn as sn\n",
    "\n",
    "DATAPATH = \"data/leaf.csv\"\n",
    "SEED = 42\n",
    "\n",
    "XLABELS = [str(x) for x in range(1,15+1)] +[str(x) for x in range(22, 36+1)]\n",
    "FEATURELABELS = [\"Eccentricity\", \"Aspect Ratio\", \"Elongation\", \"Solidity\", \n",
    "                 \"Stoch. Convexity\", \"Isoperimetric Fac.\", \"Max. Identation Depth\", \"Lobedness\", \n",
    "                \"Avg. Intensity\", \"Avg. Contrast\", \"Smoothness\", \"Third Moment\", \"Uniformity\", \"Entropy\"]"
   ]
  },
  {
   "cell_type": "markdown",
   "metadata": {},
   "source": [
    "<h2>Leitura</h2>"
   ]
  },
  {
   "cell_type": "code",
   "execution_count": 2,
   "metadata": {},
   "outputs": [],
   "source": [
    "leafdata = np.genfromtxt(DATAPATH, delimiter = \",\")\n",
    "\n",
    "X = leafdata[:, 2:]\n",
    "Y = leafdata[:, 0]\n",
    "\n",
    "X_train, X_test, Y_train, Y_test = train_test_split(X, Y, test_size=0.30, random_state=42, shuffle=True)\n",
    "\n",
    "models = []\n",
    "\n",
    "randomf = RandomForestClassifier(n_estimators=10, criterion=\"gini\", bootstrap = False)\n",
    "models.append((\"RF\", randomf))"
   ]
  },
  {
   "cell_type": "markdown",
   "metadata": {},
   "source": [
    "<h2>Entendimento</h2>"
   ]
  },
  {
   "cell_type": "code",
   "execution_count": 4,
   "metadata": {},
   "outputs": [
    {
     "data": {
      "image/png": "[encoded data removed]",
      "text/plain": [
       "<Figure size 720x504 with 1 Axes>"
      ]
     },
     "metadata": {
      "needs_background": "light"
     },
     "output_type": "display_data"
    }
   ],
   "source": [
    "# https://scikit-learn.org/stable/auto_examples/ensemble/plot_forest_importances.html\n",
    "randomf.fit(X, Y)\n",
    "importances = randomf.feature_importances_\n",
    "std = np.std([tree.feature_importances_ for tree in randomf.estimators_],\n",
    "             axis=0)\n",
    "indices = np.argsort(importances)[::-1]\n",
    "\n",
    "maior = max(importances)\n",
    "\n",
    "# Print the feature ranking\n",
    "#print(\"Feature ranking:\")\n",
    "\n",
    "#for f in range(X.shape[1]):\n",
    "#    print(\"%d. %s (%f)\" % (f + 1, FEATURELABELS[f], importances[indices[f]]))\n",
    "\n",
    "# Plot the feature importances of the forest\n",
    "plt.figure(figsize = (10,7))\n",
    "plt.title(\"Feature importances\")\n",
    "plt.barh(range(X.shape[1]), (importances[indices]),\n",
    "       color=\"r\", xerr=std[indices] , align=\"center\")\n",
    "plt.yticks(range(X.shape[1]), FEATURELABELS)\n",
    "plt.show()"
   ]
  },
  {
   "cell_type": "markdown",
   "metadata": {},
   "source": [
    "<center><h1>Parte 2</h1></center>\n",
    "<center><h1>Treinamento dos Modelo</h1></center>"
   ]
  },
  {
   "cell_type": "markdown",
   "metadata": {},
   "source": [
    "<p>Treinamento do modelo</p>"
   ]
  },
  {
   "cell_type": "code",
   "execution_count": null,
   "metadata": {},
   "outputs": [],
   "source": []
  },
  {
   "cell_type": "code",
   "execution_count": null,
   "metadata": {},
   "outputs": [],
   "source": [
    "results = []\n",
    "names = []\n",
    "for name, model in models:\n",
    "\tkfold = model_selection.KFold(n_splits=10, random_state=SEED)\n",
    "\tcv_results = model_selection.cross_val_score(model, X_train, Y_train, cv=kfold, scoring=\"accuracy\")\n",
    "\tresults.append(cv_results)\n",
    "\tnames.append(name)\n",
    "\tmsg = \"%s: %f (%f)\" % (name, cv_results.mean(), cv_results.std())\n",
    "\tprint(msg)"
   ]
  },
  {
   "cell_type": "markdown",
   "metadata": {},
   "source": [
    "<p>Árvore 1</p>"
   ]
  },
  {
   "cell_type": "code",
   "execution_count": null,
   "metadata": {},
   "outputs": [],
   "source": [
    "randomf.fit(X_train, Y_train)\n",
    "predictions = randomf.predict(X_test)\n",
    "\n",
    "print(accuracy_score(Y_test, predictions))\n",
    "\n",
    "conf = confusion_matrix(Y_test, predictions)\n",
    "conf = conf.astype('float')\n",
    "\n",
    "#for i in range(0, len(conf)):\n",
    "#    conf[i] = (conf[i] / conf[i].sum())\n",
    "\n",
    "sn.set(font_scale=2)\n",
    "plt.figure(figsize = (15,13))\n",
    "sn.heatmap(conf, annot=True,annot_kws={\"size\": 10}, xticklabels=XLABELS, yticklabels=XLABELS)"
   ]
  },
  {
   "cell_type": "code",
   "execution_count": null,
   "metadata": {},
   "outputs": [],
   "source": []
  },
  {
   "cell_type": "code",
   "execution_count": null,
   "metadata": {},
   "outputs": [],
   "source": []
  }
 ],
 "metadata": {
  "kernelspec": {
   "display_name": "Python 3",
   "language": "python",
   "name": "python3"
  },
  "language_info": {
   "codemirror_mode": {
    "name": "ipython",
    "version": 3
   },
   "file_extension": ".py",
   "mimetype": "text/x-python",
   "name": "python",
   "nbconvert_exporter": "python",
   "pygments_lexer": "ipython3",
   "version": "3.5.2"
  }
 },
 "nbformat": 4,
 "nbformat_minor": 2
}
